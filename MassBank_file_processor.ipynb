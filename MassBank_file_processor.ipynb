{
 "cells": [
  {
   "cell_type": "markdown",
   "metadata": {},
   "source": [
    "Process a folder full of MassBank.txt files"
   ]
  },
  {
   "cell_type": "code",
   "execution_count": 13,
   "metadata": {
    "collapsed": true
   },
   "outputs": [],
   "source": [
    "import glob\n",
    "import re\n",
    "import string\n",
    "import shutil\n",
    "import os"
   ]
  },
  {
   "cell_type": "code",
   "execution_count": 2,
   "metadata": {
    "collapsed": true
   },
   "outputs": [],
   "source": [
    "# Merges two dictionaries where key - mass as string, value = inten as int\n",
    "# This is very simplistic - values for the same key are simply added - could be much more sophisticated\n",
    "# i.e. check for peaks with wrong defect, dimers, isotopes, etc.\n",
    "def merge_my_dicts(dict1, dict2):\n",
    "    for k, v in dict2.iteritems():\n",
    "        if k in dict1.keys():\n",
    "            dict1[k] = dict1[k] + v\n",
    "        else:\n",
    "            dict1[k] = v"
   ]
  },
  {
   "cell_type": "code",
   "execution_count": 3,
   "metadata": {
    "collapsed": true
   },
   "outputs": [],
   "source": [
    "# Reads a MassBank file.\n",
    "# The header lines are read without processing and converted to a list - headers\n",
    "# the peaks are kept as strings: this means the values from different files will be the same\n",
    "# without having to worry about rounding errors; the assumption is that file from the same compound\n",
    "# were processed at the same time with different params, so the values *should* be the same...\n",
    "def read_massbank_file(f_name):\n",
    "    headers = []\n",
    "    peaks={}\n",
    "    processing_peaks = False\n",
    "    mw=0\n",
    "    with open(f_name) as f:\n",
    "        for line in f:\n",
    "            if '//' in line:\n",
    "                break\n",
    "            elif processing_peaks:        \n",
    "                parts = line.strip().split(' ')\n",
    "                mass_as_str, inten_as_str = parts[0], parts[1]\n",
    "                peaks[mass_as_str] = int(inten_as_str)\n",
    "            elif 'PK$' not in line:     #nothing to do with peaks...\n",
    "                headers += [line[:-1]]  #remove the newline character\n",
    "                if 'CH$EXACT_MASS' in line:\n",
    "                    parts=line.split(':')\n",
    "                    mw = float(parts[1])\n",
    "            elif 'PK$PEAK:' in line:    #start of peak secion\n",
    "                processing_peaks = True\n",
    "            \n",
    "    return headers, peaks, mw"
   ]
  },
  {
   "cell_type": "code",
   "execution_count": 4,
   "metadata": {
    "collapsed": false
   },
   "outputs": [],
   "source": [
    "# Writes a MassBank format file from a dictionary with key = mass as string, value = inten as int\n",
    "# In order to threshold and sort properly the mass strings are converted to floats\n",
    "# The intensity is normalized so the base peak is 10000 and the relative inten is one tenth of that\n",
    "# but at least 1\n",
    "# We don't write any massed > upper_limit\n",
    "def write_massbank_file(name, headers, peaks, tolerance, thresholdPercent=0.0, upper_limit=10000):\n",
    "    #convert to float and filter values greater than the upper mass limit\n",
    "    to_write = sorted([(float(k), v) for k, v in peaks.iteritems()])\n",
    "    #print len(to_write), 'peaks initially'\n",
    "    last_mass, last_inten = to_write[0]\n",
    "    # centroid peaks that are closer than tolerance - can't assume there are only two\n",
    "    centroided = []\n",
    "    for mass, inten in to_write[1:]:\n",
    "        if mass - last_mass < tolerance:\n",
    "            temp = last_mass*last_inten + mass*inten\n",
    "            last_inten += inten\n",
    "            last_mass = temp/last_inten\n",
    "        else:\n",
    "            centroided += [(last_mass, last_inten)]\n",
    "            last_mass, last_inten = mass, inten\n",
    "    centroided += [(last_mass, last_inten)]      #write the final values\n",
    "    #print len(centroided), 'after centroiding'\n",
    "    #print to_write\n",
    "    #filter by mass; we do this before calculating the base peak and threshold\n",
    "    to_write = [(mass, inten) for mass, inten in centroided if mass < upper_limit]\n",
    "    #print len(to_write), '<', upper_limit\n",
    "    base_inten=max([v for m, v in to_write])\n",
    "    scale = 10000.0 / base_inten\n",
    "    if base_inten == 0:\n",
    "        print to_write\n",
    "    #\n",
    "    abs_threshold = base_inten * thresholdPercent / 100\n",
    "    to_write = filter(lambda t: t[1] >= abs_threshold, to_write)\n",
    "    #print len(to_write), 'after threshold'\n",
    "    #print to_write\n",
    "    with open(name + \".txt\", 'w') as f:\n",
    "        for h in headers:\n",
    "            f.write(h)\n",
    "        f.write(\"PK$NUM_PEAK:  {}\\n\".format(len(to_write)))\n",
    "        f.write(\"PK$PEAK: m/z int. rel.int.\\n\")\n",
    "        for t in sorted(to_write):\n",
    "            rel_int = int( t[1]*scale/10)   #rel int is inten /10 but at least 1\n",
    "            f.write(\"  {:.4f} {:.0f} {:.0f}\\n\".format(t[0], t[1]*scale, max([1,rel_int])))\n",
    "        f.write('//')"
   ]
  },
  {
   "cell_type": "markdown",
   "metadata": {},
   "source": [
    "Can add '/Test' to the next line for testing on a subset of files"
   ]
  },
  {
   "cell_type": "code",
   "execution_count": 9,
   "metadata": {
    "collapsed": false
   },
   "outputs": [
    {
     "name": "stdout",
     "output_type": "stream",
     "text": [
      "/Users/ronbonner/Data/HMDB spectra\n"
     ]
    }
   ],
   "source": [
    "cd /Users/ronbonner/Data/HMDB spectra/"
   ]
  },
  {
   "cell_type": "code",
   "execution_count": 15,
   "metadata": {
    "collapsed": false
   },
   "outputs": [
    {
     "name": "stdout",
     "output_type": "stream",
     "text": [
      "mkdir: positive: File exists\r\n"
     ]
    }
   ],
   "source": [
    "mkdir 'positive'"
   ]
  },
  {
   "cell_type": "code",
   "execution_count": 11,
   "metadata": {
    "collapsed": false
   },
   "outputs": [],
   "source": [
    "mkdir 'negative'"
   ]
  },
  {
   "cell_type": "code",
   "execution_count": 16,
   "metadata": {
    "collapsed": false
   },
   "outputs": [
    {
     "data": {
      "text/plain": [
       "u'/Users/ronbonner/Data/HMDB spectra'"
      ]
     },
     "execution_count": 16,
     "metadata": {},
     "output_type": "execute_result"
    }
   ],
   "source": [
    "pwd"
   ]
  },
  {
   "cell_type": "code",
   "execution_count": 25,
   "metadata": {
    "collapsed": false
   },
   "outputs": [
    {
     "name": "stdout",
     "output_type": "stream",
     "text": [
      "This: 2-Methylhippuric acid positive Last: 2-Methylhippuric acid positive\n",
      "This: 4-Methoxycinnamic acid negative Last: 4-Methoxycinnamic acid negative\n",
      "This: 6-Methyladenine negative Last: 6-Methyladenine negative\n",
      "This: Cotinine positive Last: Cotinine positive\n",
      "This: Cytidine triphosphate positive Last: Cytidine triphosphate positive\n",
      "This: Daidzein negative Last: Daidzein negative\n",
      "This: Trimethylamine positive Last: Trimethylamine positive\n",
      "Done. 867 read 400 pos, 460 neg,\n"
     ]
    }
   ],
   "source": [
    "# Remove redundant library entries and separate positive from negative\n",
    "#\n",
    "# Process a folder of MassBank files as derived from an Analyst library\n",
    "# This is specific to the pestcide libraries where each compound has several entries that are very similar\n",
    "# the approach is to track the name and build a dictionary with key = mass as string, inten = int\n",
    "# when a duplicate mass is encountered the values (intensities) are added; they are re-normalized later\n",
    "# The header lines are derived from the first instance of a compound: asumption is that they are the same\n",
    "# When a compound name changes the existing spectrum, if any, is written \n",
    "compounds = set()\n",
    "last_name = \"\"\n",
    "last_polarity = ''\n",
    "header_lines = []\n",
    "peaks = {}\n",
    "percent_threshold = 0.0\n",
    "upper_limit_slop = 4     #gets added to mw; if == 3 isotope peaks will be included\n",
    "in_count, pos_count,neg_count = 0,0,0\n",
    "#\n",
    "for f_name in glob.glob('HMDB Massbank files/*.txt'):\n",
    "    head, tail = os.path.split(f_name)  # get the last portion of the file name\n",
    "    in_count += 1\n",
    "    m = re.search('(.+)\\, (.*)-.*\\.txt', tail)\n",
    "    compound_name = m.groups()[0]\n",
    "    polarity_str = m.groups()[1]\n",
    "\n",
    "    #\n",
    "#    out_dir = ''\n",
    "#    if 'positive' in polarity_str:\n",
    "#        pos_count += 1\n",
    "#        out_dir = 'positive/'\n",
    "#    elif 'negative'in polarity_str:\n",
    "#        out_dir = 'negative/'\n",
    "#        neg_count += 1\n",
    "#\n",
    "    if last_name != compound_name or polarity_str != last_polarity:\n",
    "        #print f_name, compound_name, polarity_str\n",
    "        #print \"{}, {}, {}\".format(compound_name, polarity_str, out_dir)\n",
    "        if len(header_lines) > 0:  #something to write\n",
    "            #print \"Writing file\"\n",
    "            out_file = last_polarity +'/' + last_name\n",
    "            write_massbank_file(out_file, header_lines, peaks, 0.002, \n",
    "                                0, upper_limit=mw+upper_limit_slop)\n",
    "            #write_massbank_file('out/' + last_name, header_lines, peaks, 0.01, thresholdPercent=0.1)\n",
    "            if 'positive' in last_polarity:\n",
    "                pos_count += 1\n",
    "            elif 'negative'in last_polarity:\n",
    "                neg_count += 1\n",
    "                \n",
    "        last_name = compound_name\n",
    "        last_polarity = polarity_str\n",
    "    else:\n",
    "        print 'This:', compound_name, polarity_str, 'Last:', last_name, last_polarity\n",
    "    peaks={}             #clear the peak list; headers are cleared in read_massbank_file\n",
    "    header_lines, peaks_in, mw = read_massbank_file(f_name)\n",
    "    merge_my_dicts(peaks, peaks_in)\n",
    "else:\n",
    "    if len(header_lines) > 0:  #something write\n",
    "        out_file = last_polarity +'/' + last_name\n",
    "        write_massbank_file(out_file, header_lines, peaks, 0.002, \n",
    "                                0, upper_limit=mw+upper_limit_slop)\n",
    "        if 'positive' in last_polarity:\n",
    "            pos_count += 1\n",
    "        elif 'negative'in last_polarity:\n",
    "            neg_count += 1\n",
    "\n",
    "print 'Done.', in_count, 'read', pos_count, 'pos,', neg_count,'neg,'"
   ]
  },
  {
   "cell_type": "code",
   "execution_count": null,
   "metadata": {
    "collapsed": false
   },
   "outputs": [],
   "source": [
    "mkdir 'out_mol'"
   ]
  },
  {
   "cell_type": "code",
   "execution_count": null,
   "metadata": {
    "collapsed": false
   },
   "outputs": [],
   "source": [
    "# Extract MOL files\n",
    "# Essentially the same as the routine that removes redundant libraries, but only copies one MOL file\n",
    "# to the output directory\n",
    "last_name = \"\"\n",
    "in_num = 0\n",
    "out_num= 0\n",
    "#\n",
    "for f_name in glob.glob('*.mol'):\n",
    "    in_num += 1\n",
    "    m = re.search('(.+)\\,.*\\.mol', f_name)\n",
    "    compound_name = m.groups()[0]\n",
    "    if last_name != compound_name:\n",
    "        if len(last_name) > 0:       #something to write\n",
    "            shutil.copyfile(f_name, 'out_mol/' + compound_name + '.mol')\n",
    "            out_num += 1\n",
    "        last_name = compound_name\n",
    "else:\n",
    "    if len(last_name) > 0:       #something to write\n",
    "        shutil.copyfile(f_name, 'out_mol/' + compound_name + '.mol')\n",
    "        out_num += 1\n",
    "#\n",
    "print \"Done:\", in_num, \"read,\", out_num, \"written\""
   ]
  },
  {
   "cell_type": "code",
   "execution_count": null,
   "metadata": {
    "collapsed": true
   },
   "outputs": [],
   "source": []
  }
 ],
 "metadata": {
  "anaconda-cloud": {},
  "kernelspec": {
   "display_name": "Python [default]",
   "language": "python",
   "name": "python2"
  },
  "language_info": {
   "codemirror_mode": {
    "name": "ipython",
    "version": 2
   },
   "file_extension": ".py",
   "mimetype": "text/x-python",
   "name": "python",
   "nbconvert_exporter": "python",
   "pygments_lexer": "ipython2",
   "version": "2.7.12"
  }
 },
 "nbformat": 4,
 "nbformat_minor": 1
}
